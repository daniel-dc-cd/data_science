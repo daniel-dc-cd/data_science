{
 "cells": [
  {
   "cell_type": "code",
   "execution_count": 46,
   "metadata": {},
   "outputs": [],
   "source": [
    "import numpy as np\n",
    "from scipy import stats\n",
    "\n",
    "#create array to hold simulationresults\n",
    "\n",
    "results = np.array([])\n",
    "\n",
    "#create a large number of trials\n",
    "for i in range(5000):\n",
    "    #put the car behind a random door\n",
    "    car = np.random.randint(1,4,1)\n",
    "    #have the contestent pick a random door\n",
    "    pick = np.random.randint(1,4,1)\n",
    "    #open one of the doors that does not have the car and is not the contestants\n",
    "    open_door = np.array([1,2,3])\n",
    "    open_door = np.setdiff1d(open_door,[car,pick])\n",
    "    open_door = np.random.choice(open_door, 1)\n",
    "    \n",
    "    #the other door that remains closed\n",
    "    other_closed_door = np.array([1,2,3])\n",
    "    other_closed_door = np.setdiff1d(other_closed_door,[pick,open_door])\n",
    "    # now you have two values is the car in your door 'pick' \n",
    "    # or is it in the remaining closed door and you should switch not 'pick' or 'open_door'\n",
    "    # we will say that you stay with your pick so 1 is if you win by staying and 0\n",
    "    if other_closed_door == car:\n",
    "        results = np.append(results,0)\n",
    "    else:\n",
    "        results = np.append(results,1)"
   ]
  },
  {
   "cell_type": "code",
   "execution_count": 47,
   "metadata": {},
   "outputs": [
    {
     "data": {
      "text/plain": [
       "DescribeResult(nobs=5000, minmax=(0.0, 1.0), mean=0.344, variance=0.2257091418283657, skewness=0.6567853439964123, kurtosis=-1.5686330119115146)"
      ]
     },
     "execution_count": 47,
     "metadata": {},
     "output_type": "execute_result"
    }
   ],
   "source": [
    "stats.describe(results)"
   ]
  },
  {
   "cell_type": "code",
   "execution_count": null,
   "metadata": {},
   "outputs": [],
   "source": []
  }
 ],
 "metadata": {
  "kernelspec": {
   "display_name": "Python 3",
   "language": "python",
   "name": "python3"
  },
  "language_info": {
   "codemirror_mode": {
    "name": "ipython",
    "version": 3
   },
   "file_extension": ".py",
   "mimetype": "text/x-python",
   "name": "python",
   "nbconvert_exporter": "python",
   "pygments_lexer": "ipython3",
   "version": "3.5.6"
  }
 },
 "nbformat": 4,
 "nbformat_minor": 2
}
